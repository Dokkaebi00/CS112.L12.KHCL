{
 "metadata": {
  "language_info": {
   "codemirror_mode": {
    "name": "ipython",
    "version": 3
   },
   "file_extension": ".py",
   "mimetype": "text/x-python",
   "name": "python",
   "nbconvert_exporter": "python",
   "pygments_lexer": "ipython3",
   "version": "3.7.4-final"
  },
  "orig_nbformat": 2,
  "kernelspec": {
   "name": "Python 3.7.4 64-bit ('base': conda)",
   "display_name": "Python 3.7.4 64-bit ('base': conda)",
   "metadata": {
    "interpreter": {
     "hash": "96eb50e1d44aed467dc8f759cb08c32fbfa9babcf79c554e2d0e5feb04653a10"
    }
   }
  }
 },
 "nbformat": 4,
 "nbformat_minor": 2,
 "cells": [
  {
   "source": [
    "## 1. Abstraction:\n",
    "- Tìm chuỗi số lớn nhất chia hết cho  3  từ chuỗi đã cho bằng cách đảo chuỗi, xóa chữ số của chuỗi\n",
    "## Constrain:\n",
    "- Độ dài của chuỗi là l thì $2 \\le l \\le 10^5$"
   ],
   "cell_type": "markdown",
   "metadata": {}
  },
  {
   "source": [
    "## 2. Pattern Recognition\n",
    "Ta có $\\overline{a_1a_2...a_{n-1}a_n}$ $mod$ $3$ $=$ $(a_1 + a_2 + ... + a_{n-1} + a_n)$  $mod$  $3$\n",
    "\n",
    "Cách giải quyết vấn đề:\n",
    "- Tính số dư $n$ của chuỗi số khi chia cho $3$\n",
    "- Tách các chữ số của chuỗi số dưới dạng 1 dictionary\n",
    "### Có 2 trường hợp cần để giải quyết\n",
    "#### Nếu số dư khác $0$: \n",
    "- Nếu tồn tại chữ số có cùng số dư với chuỗi số khi chia cho $3$ thì ta sẽ bỏ 1 chữ số nhỏ nhất\n",
    "- Nếu không tồn tại, thì bỏ 2 chữ số có số dư $3-n$ khi chia cho 3 nhỏ nhất\n",
    "- Sắp xếp chuỗi theo thứ tự giảm dần.\n",
    "\n",
    "#### Nếu số dư bằng $0$:\n",
    "- Sắp xếp chuỗi theo thứ tự giảm dần.\n"
   ],
   "cell_type": "markdown",
   "metadata": {}
  },
  {
   "cell_type": "code",
   "execution_count": 2,
   "metadata": {},
   "outputs": [
    {
     "output_type": "stream",
     "name": "stdout",
     "text": [
      "510\n15\n"
     ]
    }
   ],
   "source": [
    "s = input()\n",
    "a = list(s)\n",
    "int_s = int(s)\n",
    "a.sort()\n",
    "\n",
    "# Nếu dãy chia hết cho 3 thì sx dãy giảm gần, in dãy -> thoát\n",
    "if int_s % 3 == 0:\n",
    "    a.reverse()\n",
    "    print(''.join(a))\n",
    "    exit()\n",
    "\n",
    "x = int(int_s % 3)\n",
    "\n",
    "# Hàm trả về vị trí i trong a sao cho a[i] % 3 = x, nếu không trả về -1\n",
    "def ind1(a, x):\n",
    "    ind = -1\n",
    "    if str(x) in a:\n",
    "        ind = a.index(str(x))\n",
    "    elif str(x + 3) in a:\n",
    "        ind = a.index(str(x+3))\n",
    "    elif str(x + 6) in a:\n",
    "        ind = a.index(str(x+6))\n",
    "    return ind\n",
    "\n",
    "# Hàm trả về vị trí i, j trong a sao cho a[i] % 3 = x, a[j] % 3 = x, nếu không trả về -1, -1\n",
    "def ind2(a, x):\n",
    "    i1 = ind1(a, x)\n",
    "    i2 = ind1(a[i1+1:], x) + i1 + 1\n",
    "    return i1, i2\n",
    "\n",
    "# Tìm và xóa vị trí không thỏa mãn điều kiện, sắp xếp lại dãy giảm dần, in dãy\n",
    "ind = ind1(a, x)\n",
    "if ind == -1:\n",
    "    i1, i2 = ind2(a, (x*2)%3)\n",
    "    if i1 != -1 and i2 != -1:\n",
    "        a.remove(a[i1])\n",
    "        a.remove(a[i2-1])\n",
    "\n",
    "        a.reverse()\n",
    "\n",
    "        if len(a) == 1:\n",
    "            print(str(a[0]))\n",
    "            exit()\n",
    "        else:\n",
    "            print(''.join(a))\n",
    "            exit()\n",
    "else:\n",
    "    a.remove(a[ind])\n",
    "    a.reverse()\n",
    "    if a != []:\n",
    "        print(''.join(a))\n",
    "        exit()"
   ]
  },
  {
   "cell_type": "code",
   "execution_count": null,
   "metadata": {},
   "outputs": [],
   "source": []
  }
 ]
}