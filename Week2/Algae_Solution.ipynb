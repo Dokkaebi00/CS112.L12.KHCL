{
  "nbformat": 4,
  "nbformat_minor": 0,
  "metadata": {
    "orig_nbformat": 2,
    "colab": {
      "name": "Algae_Solution.ipynb",
      "provenance": [],
      "toc_visible": true,
      "include_colab_link": true
    },
    "kernelspec": {
      "name": "python3",
      "display_name": "Python 3"
    }
  },
  "cells": [
    {
      "cell_type": "markdown",
      "metadata": {
        "id": "view-in-github",
        "colab_type": "text"
      },
      "source": [
        "<a href=\"https://colab.research.google.com/github/dxv2k/CS112.L12.KHCL/blob/master/Week2/Algae_Solution.ipynb\" target=\"_parent\"><img src=\"https://colab.research.google.com/assets/colab-badge.svg\" alt=\"Open In Colab\"/></a>"
      ]
    },
    {
      "cell_type": "markdown",
      "metadata": {
        "id": "MzA5QkRPdIyW",
        "colab_type": "text"
      },
      "source": [
        "Please use Google Colab to view for better render!\n",
        "# [Algae Problem](./Algae.md)\n",
        "![Algae Evolved](https://user-images.githubusercontent.com/48788781/94126485-df5ef500-fe81-11ea-8d3d-a7636531ebd1.png)\n",
        "We have create a table that calculate individuals day by day with `n = 1`\n",
        "\n",
        "| DAY | $a_1$ | $a_2$ | $a_3$ | $a_4$ | $a_5$ | Total_individuals |\n",
        "|:---:|:-----:|:-----:|:-----:|:-----:|:-----:|:-----------------:|\n",
        "|  0  |   1   |  None |  None |  None |  None |         1         |\n",
        "|  1  |   1   |   1   |  None |  None |  None |         3         |\n",
        "| 2   |   3   |   1   |   1   |  None |  None |         5         |\n",
        "| 3   |   8   |   3   |   1   |   1   |  None |         13        |\n",
        "| 4   |   21  |   8   |   3   |   1   |   1   |         34        |\n",
        "\n",
        "We recognize that `Total_individuals` looks like an array of Fibonancci. Let's look at the Fibonancci array below:\n",
        "\n",
        "| n                 | 0 | 1 | 2 |  3 |  4 |  5 |  6  |  7 |  8 |  9 |\n",
        "|-------------------|:-:|:-:|:-:|:--:|:--:|:--:|:---:|:--:|:--:|:--:|\n",
        "| Fib(n)            | 0 | 1 | 1 |  2 |  3 |  5 |  8  | 13 | 21 | 34 |\n",
        "| Fib($2k+1$)       | 1 | 3 | 5 | 13 | 34 | 89 | 233 |    |    |    |\n",
        "| Total_individuals | 1 | 3 | 5 | 13 | 34 |    |     |    |    |    |\n",
        "\n",
        "With the table above we can recognize that the `Total_individuals` array are same as `Fib(2k+1)` array so the total individuals in the k-th day is the (2k+1)-th Fibonancci number. If `n != 1`, we multiply `n` with `Fib(2k+1)` to calculate that.\n",
        "\n"
      ]
    },
    {
      "cell_type": "markdown",
      "metadata": {
        "id": "hzwxERsEdUAs",
        "colab_type": "text"
      },
      "source": [
        "## Abstraction\n",
        "- Find the (2k + 1)-th Fibonacci number.\n",
        "- Calculate `n * Fibonacci(2k + 1)`\n"
      ]
    },
    {
      "cell_type": "markdown",
      "metadata": {
        "id": "gaBu-sVrdYnb",
        "colab_type": "text"
      },
      "source": [
        "## Pattern Recognition\n",
        "1. [Recursion](#method-1-use-recursion)\n",
        "2. [Use Fibonacci Q-Matrix](#method-2-use-fibonacci-q-matrix-on)"
      ]
    },
    {
      "cell_type": "markdown",
      "metadata": {
        "id": "VGrxiG-hddJR",
        "colab_type": "text"
      },
      "source": [
        "## Algorithm designed\n",
        "- **Input**\n",
        "  - `n`: Number of individual in the first day.\n",
        "  - `k`: The day that we have to calculate how many individuals in the environment\n",
        "- **Output**\n",
        "  - Number of individual in k-th day, which can be calculate by the function $n * Fibonacci(2k + 1)$\n"
      ]
    },
    {
      "cell_type": "markdown",
      "metadata": {
        "id": "ruymrDrgdiyt",
        "colab_type": "text"
      },
      "source": [
        "### **Method 1:** Use Recursion\n",
        "The code and the graph below implement for the n-th Fibonancci number.\n",
        "```python\n",
        "def fib(n): \n",
        "    # First Fibonacci number is 0 \n",
        "    if n == 0: \n",
        "        return 0\n",
        "    # Second Fibonacci number is 1 \n",
        "    elif n == 1: \n",
        "        return 1\n",
        "    else: \n",
        "        return fib(n - 1) + fib(n - 2)\n",
        "```\n",
        "```\n",
        "                             fib(5)   \n",
        "                          /         \\\n",
        "                       /             \\\n",
        "                     /                \\\n",
        "               fib(4)                fib(3)   \n",
        "             /        \\              /       \\\n",
        "         fib(3)      fib(2)         fib(2)   fib(1)\n",
        "        /    \\       /    \\        /      \\\n",
        "  fib(2)   fib(1)  fib(1) fib(0) fib(1) fib(0)\n",
        "  /     \\\n",
        "fib(1) fib(0)\n",
        "```\n",
        "We can observe that does a lot of repeated work and this is the bad method if we have to find out n-th fibonacci number for very large 'n'. With a large input size (10^18) and as we know Fibonacci can growth exponentially at 1000th which lead to insufficient memory, so we can't use this method to solve problem.  \n",
        "\n",
        "**Time complexity:** $O(2^n)$\n"
      ]
    },
    {
      "cell_type": "markdown",
      "metadata": {
        "id": "LFj-ZHD4dsVO",
        "colab_type": "text"
      },
      "source": [
        "### **Method 2:** Use Fibonacci Q-Matrix O(n)\n",
        "$${\\begin{pmatrix}1 & 1\\\\1 & 0\\end{pmatrix}} ^ n = \\begin{pmatrix}F_{n+1} & F_n\\\\F_n & F_{n-1}\\end{pmatrix}$$\n",
        "[The Fibonacci Q-Matrix](https://mathworld.wolfram.com/FibonacciQ-Matrix.html) can help us find out the n-th Fubonancci number by calculate `power(Q-Matrix, n)`, then we get the (n+1)-th Fibonacci number as the element at row and column (0, 0) in the resultant matrix.\n",
        "\n",
        "- **Time complexity:** $O(n)$\n",
        "- **Space complexity:** $O(1)$\n",
        "\n",
        "```python\n",
        "def fib(n): \n",
        "    F = [[1, 1], \n",
        "         [1, 0]] \n",
        "    if (n == 0): \n",
        "        return 0\n",
        "    power(F, n - 1) \n",
        "      \n",
        "    return F[0][0] \n",
        "  \n",
        "def multiply(F, M):\n",
        "  \n",
        "    x = (F[0][0] * M[0][0] + \n",
        "         F[0][1] * M[1][0]) \n",
        "    y = (F[0][0] * M[0][1] +\n",
        "         F[0][1] * M[1][1]) \n",
        "    z = (F[1][0] * M[0][0] + \n",
        "         F[1][1] * M[1][0]) \n",
        "    w = (F[1][0] * M[0][1] + \n",
        "         F[1][1] * M[1][1]) \n",
        "      \n",
        "    F[0][0] = x  %1000000007\n",
        "    F[0][1] = y  %1000000007\n",
        "    F[1][0] = z  %1000000007\n",
        "    F[1][1] = w  %1000000007\n",
        "  \n",
        "def power(F, n): \n",
        "  \n",
        "    if( n == 0 or n == 1): \n",
        "        return; \n",
        "\n",
        "    M = [[1, 1],\n",
        "         [1, 0]]\n",
        "  \n",
        "    # n - 1 times multiply the \n",
        "    # matrix to {{1,0},{0,1}} \n",
        "    for i in range(2, n + 1):\n",
        "        multiply(F, M)\n",
        "\n",
        "```\n",
        "\n",
        "Above `power(F, n)` function can be optimized to $O(log(n))$ like [this](Optimize_Pow_Func.md) by divides the problem into subproblems of size $n/2$ and call the subproblems recursively.\n",
        "```python\n",
        "def power(F, n): \n",
        "  \n",
        "    if( n == 0 or n == 1): \n",
        "        return; \n",
        "    M = [[1, 1], \n",
        "         [1, 0]]; \n",
        "          \n",
        "    power(F, n // 2) \n",
        "    multiply(F, F) \n",
        "          \n",
        "    if (n % 2 != 0): \n",
        "        multiply(F, M)\n",
        "```"
      ]
    },
    {
      "cell_type": "markdown",
      "metadata": {
        "id": "_41Bj0tWd59e",
        "colab_type": "text"
      },
      "source": [
        "## Implement"
      ]
    },
    {
      "cell_type": "code",
      "metadata": {
        "id": "G-pJHZ__dsrJ",
        "colab_type": "code",
        "colab": {}
      },
      "source": [
        "def fib(n): \n",
        "    F = [[1, 1], \n",
        "         [1, 0]] \n",
        "    if (n == 0): \n",
        "        return 0\n",
        "    power(F, n - 1) \n",
        "      \n",
        "    return F[0][0] \n",
        "  \n",
        "def multiply(F, M):\n",
        "  \n",
        "    x = (F[0][0] * M[0][0] + \n",
        "         F[0][1] * M[1][0]) \n",
        "    y = (F[0][0] * M[0][1] +\n",
        "         F[0][1] * M[1][1]) \n",
        "    z = (F[1][0] * M[0][0] + \n",
        "         F[1][1] * M[1][0]) \n",
        "    w = (F[1][0] * M[0][1] + \n",
        "         F[1][1] * M[1][1]) \n",
        "      \n",
        "    F[0][0] = x  %1000000007\n",
        "    F[0][1] = y  %1000000007\n",
        "    F[1][0] = z  %1000000007\n",
        "    F[1][1] = w  %1000000007\n",
        "  \n",
        "def power(F, n): \n",
        "  \n",
        "    if( n == 0 or n == 1): \n",
        "        return; \n",
        "    M = [[1, 1], \n",
        "         [1, 0]]; \n",
        "          \n",
        "    power(F, n // 2) \n",
        "    multiply(F, F) \n",
        "          \n",
        "    if (n % 2 != 0): \n",
        "        multiply(F, M) "
      ],
      "execution_count": 1,
      "outputs": []
    },
    {
      "cell_type": "code",
      "metadata": {
        "id": "hGeFXjGYfGjQ",
        "colab_type": "code",
        "colab": {
          "base_uri": "https://localhost:8080/",
          "height": 34
        },
        "outputId": "56d8d403-2124-4400-fe55-3471d79f0aa7"
      },
      "source": [
        "n, k = map(int, input().split(' '))"
      ],
      "execution_count": 9,
      "outputs": [
        {
          "output_type": "stream",
          "text": [
            "1000 1000000000000000000\n"
          ],
          "name": "stdout"
        }
      ]
    },
    {
      "cell_type": "code",
      "metadata": {
        "id": "OtUiH68IeT-c",
        "colab_type": "code",
        "colab": {
          "base_uri": "https://localhost:8080/",
          "height": 68
        },
        "outputId": "eb1fb11a-6af0-42f0-fecd-2b4c51ee7e9d"
      },
      "source": [
        "%%time\n",
        "print(fib(2*k+1)*n % 1000000007)"
      ],
      "execution_count": 11,
      "outputs": [
        {
          "output_type": "stream",
          "text": [
            "493936773\n",
            "CPU times: user 289 µs, sys: 0 ns, total: 289 µs\n",
            "Wall time: 264 µs\n"
          ],
          "name": "stdout"
        }
      ]
    }
  ]
}