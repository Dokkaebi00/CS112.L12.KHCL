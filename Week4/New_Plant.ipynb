{
  "nbformat": 4,
  "nbformat_minor": 0,
  "metadata": {
    "colab": {
      "name": "New_Plant.ipynb",
      "provenance": [],
      "authorship_tag": "ABX9TyM0IUlKtkzOx5ahiMWLrZ4v",
      "include_colab_link": true
    },
    "kernelspec": {
      "name": "Python 3.7.8 64-bit",
      "display_name": "Python 3.7.8 64-bit",
      "metadata": {
        "interpreter": {
          "hash": "7d7ad3cba2ad0260a743ca22ff4b2898538de6343ef8b4347121d6f408546b13"
        }
      }
    }
  },
  "cells": [
    {
      "cell_type": "markdown",
      "metadata": {
        "id": "view-in-github",
        "colab_type": "text"
      },
      "source": [
        "<a href=\"https://colab.research.google.com/github/dxv2k/CS112.L12.KHCL/blob/master/Week4/New_Plant.ipynb\" target=\"_parent\"><img src=\"https://colab.research.google.com/assets/colab-badge.svg\" alt=\"Open In Colab\"/></a>"
      ]
    },
    {
      "source": [
        "# 1. Abstraction\n",
        "Trước tiên, ta phân tích bài toán một chút. Gọi $x$ là số ngày cần thiết để hoàn thành. Khi đó, số ngày nghỉ của đội $I$ là \n",
        "$int(\\frac{x}{k})$ \n",
        "\n",
        "$\\rightarrow$ số ngày làm là $x-int(\\frac{x}{k})$\n",
        "\n",
        "$\\rightarrow$ sô cây đốn hạ được là $(x-int(\\frac{x}{k}))*a$.\n",
        "\n",
        "Tương tự với đội $II$, ta có số cây đốn hạ được là $(x-int(\\frac{x}{m}))*b$ \n",
        "\n",
        "$\\rightarrow$ tổng số cây đốn hạ là: $x[(1-\\frac{1}{k})a+(1-\\frac{1}{m})*b]\\geq n$\n",
        "\n",
        "$\\rightarrow$ $x\\geq \\frac{n}{(1-\\frac{1}{k})a+(1-\\frac{1}{m})*b}$\n",
        "\n",
        "Vậy, abstraction bài toàn này sẽ là: *Tìm x nhỏ nhất sao cho* $$x\\geq \\frac{n}{(1-\\frac{1}{k})a+(1-\\frac{1}{m})*b}$$"
      ],
      "cell_type": "markdown",
      "metadata": {
        "id": "I0r8u2ir8Dju"
      }
    },
    {
      "source": [
        "# Giải thuật 1: \n",
        "Áp dụng cách giải như đã phân tích. Duyệt từ $x-1$ đến $x+1$ để xem trường hợp nào thỏa. Độ phức tạp thuật toán tối đa $O(3)$, tối thiểu $O(2)$ *(với trường hợp lùi $x$ 1 đơn vị)*"
      ],
      "cell_type": "markdown",
      "metadata": {}
    },
    {
      "source": [
        "# 4. Implement"
      ],
      "cell_type": "markdown",
      "metadata": {}
    },
    {
      "cell_type": "code",
      "execution_count": 1,
      "metadata": {},
      "outputs": [
        {
          "output_type": "stream",
          "name": "stdout",
          "text": [
            "7\n"
          ]
        }
      ],
      "source": [
        "a,k,b,m,n = map(int,input().split()) \n",
        "\n",
        "def f(x): \n",
        "    return a*(x-x//k) + b*(x-x//m) >= n \n",
        "\n",
        "res = -1 \n",
        "low = 0 \n",
        "high = int(1e18)\n",
        "\n",
        "while low <= high: \n",
        "    mid = (low+high)//2 \n",
        "    if f(mid): \n",
        "        res = mid \n",
        "        high = mid - 1\n",
        "    else: \n",
        "        low = mid + 1\n",
        "print(res)\n"
      ]
    }
  ]
}