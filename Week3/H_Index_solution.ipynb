{
  "nbformat": 4,
  "nbformat_minor": 0,
  "metadata": {
    "language_info": {
      "codemirror_mode": {
        "name": "ipython",
        "version": 3
      },
      "file_extension": ".py",
      "mimetype": "text/x-python",
      "name": "python",
      "nbconvert_exporter": "python",
      "pygments_lexer": "ipython3",
      "version": "3.7.8-final"
    },
    "orig_nbformat": 2,
    "kernelspec": {
      "name": "Python 3.7.8 64-bit",
      "display_name": "Python 3.7.8 64-bit",
      "metadata": {
        "interpreter": {
          "hash": "7d7ad3cba2ad0260a743ca22ff4b2898538de6343ef8b4347121d6f408546b13"
        }
      }
    },
    "colab": {
      "name": "H_Index_solution.ipynb",
      "provenance": [],
      "include_colab_link": true
    }
  },
  "cells": [
    {
      "cell_type": "markdown",
      "metadata": {
        "id": "view-in-github",
        "colab_type": "text"
      },
      "source": [
        "Click the badge bellow to use Google Colab for better render result!!!\n",
        "\n",
        "<a href=\"https://colab.research.google.com/github/dxv2k/CS112.L12.KHCL/blob/Week-3/Week3/H_Index_solution.ipynb\" target=\"_parent\"><img src=\"https://colab.research.google.com/assets/colab-badge.svg\" alt=\"Open In Colab\"/></a>"
      ]
    },
    {
      "cell_type": "markdown",
      "metadata": {
        "id": "FKvPyyBbsTRs"
      },
      "source": [
        "# H Index problem\n",
        "Ví dụ ta cho 5 số nguyên \n",
        "` 8 , 5 , 3 , 4 , 10 `\n",
        "\n",
        "Nếu:\n",
        "- `k = 1`, có 5 số $\\geq 1$ ($5 \\geq 1$)\n",
        "- `k = 2`, có 5 số $\\geq 2$ ($5 \\geq 2$)\n",
        "- `k = 3`, có 5 số $\\geq 3$ ($5 \\geq 3$)\n",
        "- `k = 4`, có 4 số $\\geq 4$ ($4 \\geq 4$)\n",
        "- `k = 5`, có 3 số $\\geq 5$ ($3 \\leq 5$) -> Loại\n",
        "\n",
        "Kết luận: `H_Index = 4`"
      ]
    },
    {
      "cell_type": "markdown",
      "metadata": {
        "id": "qAWfkdmKsTRt"
      },
      "source": [
        "## 1. Abstraction\n",
        "Tìm `H_Index` sao cho `H_Index` là số `k` lớn nhất thoả điều kiện các phần tử trong dãy lớn hơn hoặc bằng `k`\n"
      ]
    },
    {
      "cell_type": "markdown",
      "metadata": {
        "id": "h04wx5UIsTRv"
      },
      "source": [
        "## 2. Pattern Recognition\n",
        "Gọi dãy `arr` là dãy bao gồm các phần tử chỉ số lượng trích dẫn bài báo. Sắp xếp dãy `arr` theo thứ tự giảm dần. Thực hiện duyệt phần tử. Tại mỗi vị trí thứ `i` ta so sánh giá trị `arr[i]` có $\\geq$ `i` không? Nếu có thì `H_Index` tăng một giá trị.\n"
      ]
    },
    {
      "cell_type": "markdown",
      "metadata": {
        "id": "DL4F_yGQsTRw"
      },
      "source": [
        "## 3. Design Algorithm\n",
        "Pseudocode\n",
        "```python\n",
        "H_Index = 0\n",
        "for i in range(arr): # Duyệt tất cả các phần tử trong mảng\n",
        "    if arr[i] >= i:\n",
        "        H_Index += 1 # Tăng một giá trị\n",
        "    else:\n",
        "        break # Nếu mà bé hơn thì dừng vòng lặp\n",
        "return H_Index\n",
        "```"
      ]
    },
    {
      "cell_type": "markdown",
      "metadata": {
        "id": "zLU4EjousTRx"
      },
      "source": [
        "# 4. Implement"
      ]
    },
    {
      "cell_type": "code",
      "metadata": {
        "id": "yrEdva6gsTRy",
        "outputId": "636b839b-991c-4fd1-e1b1-b39146ef971f",
        "colab": {
          "base_uri": "https://localhost:8080/",
          "height": 68
        }
      },
      "source": [
        "n = int(input())\n",
        "arr = list(map(int, input().split(' ')))\n",
        "arr.sort(reverse = True)\n",
        "h_index = 0\n",
        "for i, num_paper in enumerate(arr):\n",
        "    if num_paper >= i+1:\n",
        "        h_index = i+1\n",
        "    else:\n",
        "        break\n",
        "print(h_index)"
      ],
      "execution_count": 1,
      "outputs": [
        {
          "output_type": "stream",
          "text": [
            "5\n",
            "8 5 3 4 10\n",
            "4\n"
          ],
          "name": "stdout"
        }
      ]
    }
  ]
}