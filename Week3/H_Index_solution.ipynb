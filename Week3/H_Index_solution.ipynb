{
 "metadata": {
  "language_info": {
   "codemirror_mode": {
    "name": "ipython",
    "version": 3
   },
   "file_extension": ".py",
   "mimetype": "text/x-python",
   "name": "python",
   "nbconvert_exporter": "python",
   "pygments_lexer": "ipython3",
   "version": "3.7.8-final"
  },
  "orig_nbformat": 2,
  "kernelspec": {
   "name": "Python 3.7.8 64-bit",
   "display_name": "Python 3.7.8 64-bit",
   "metadata": {
    "interpreter": {
     "hash": "7d7ad3cba2ad0260a743ca22ff4b2898538de6343ef8b4347121d6f408546b13"
    }
   }
  }
 },
 "nbformat": 4,
 "nbformat_minor": 2,
 "cells": [
  {
   "source": [
    "# H Index problem\n",
    "Ví dụ ta cho 5 số nguyên \n",
    "` 8 , 5 , 3 , 4 , 10 `\n",
    "\n",
    "Nếu:\n",
    "- `k = 1`, có 5 số $\\geq 1$ ($5 \\geq 1$)\n",
    "- `k = 2`, có 5 số $\\geq 2$ ($5 \\geq 2$)\n",
    "- `k = 3`, có 5 số $\\geq 3$ ($5 \\geq 3$)\n",
    "- `k = 4`, có 4 số $\\geq 4$ ($4 \\geq 4$)\n",
    "- `k = 5`, có 3 số $\\geq 5$ ($3 \\leq 5$) -> Loại\n",
    "\n",
    "Kết luận: `H_Index = 4`"
   ],
   "cell_type": "markdown",
   "metadata": {}
  },
  {
   "source": [
    "## 1. Abstraction\n",
    "Tìm `H_Index` sao cho `H_Index` là số `k` lớn nhất thoả điều kiện các phần tử trong dãy lớn hơn hoặc bằng `k`\n"
   ],
   "cell_type": "markdown",
   "metadata": {}
  },
  {
   "source": [
    "## 2. Pattern Recognition\n",
    "Gọi dãy `arr` là dãy bao gồm các phần tử chỉ số lượng trích dẫn bài báo. Sắp xếp dãy `arr` theo thứ tự giảm dần. Thực hiện duyệt phần tử. Tại mỗi vị trí thứ `i` ta so sánh giá trị `arr[i]` có $\\geq$ `i` không? Nếu có thì `H_Index` tăng một giá trị.\n"
   ],
   "cell_type": "markdown",
   "metadata": {}
  },
  {
   "source": [
    "## 3. Design Algorithm\n",
    "Pseudocode\n",
    "```python\n",
    "H_Index = 0\n",
    "for i in range(arr): # Duyệt tất cả các phần tử trong mảng\n",
    "    if arr[i] >= i:\n",
    "        H_Index += 1 # Tăng một giá trị\n",
    "    else:\n",
    "        break # Nếu mà bé hơn thì dừng vòng lặp\n",
    "return H_Index\n",
    "```"
   ],
   "cell_type": "markdown",
   "metadata": {}
  },
  {
   "source": [
    "# 4. Implement"
   ],
   "cell_type": "markdown",
   "metadata": {}
  },
  {
   "cell_type": "code",
   "execution_count": null,
   "metadata": {},
   "outputs": [],
   "source": []
  }
 ]
}