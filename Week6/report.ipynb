{
 "metadata": {
  "language_info": {
   "codemirror_mode": {
    "name": "ipython",
    "version": 3
   },
   "file_extension": ".py",
   "mimetype": "text/x-python",
   "name": "python",
   "nbconvert_exporter": "python",
   "pygments_lexer": "ipython3",
   "version": "3.7.7-final"
  },
  "orig_nbformat": 2,
  "kernelspec": {
   "name": "Python 3.7.7 64-bit",
   "display_name": "Python 3.7.7 64-bit",
   "metadata": {
    "interpreter": {
     "hash": "6e5b06339de80b3298504055d01c5e071e683f3e40ceca104c78e1fb250d4bf0"
    }
   }
  }
 },
 "nbformat": 4,
 "nbformat_minor": 2,
 "cells": [
  {
   "source": [
    "# MỨC ĐỘ GIỐNG NHAU\n",
    "Một quần thể sinh vật ngoài hành tinh có gene tạo thành từ $26$ cơ sở ký hiệu từ $A$ tới $Z$. Mỗi gene là một xâu ký tự các chữ cái la tinh hoa. Hai cá thể khác nhau có gene khác nhau. Mức độ giống nhau của $2$ gene sẽ xác định độ huyết thống của chúng.\n",
    "\n",
    "Độ giống nhau của gene thứ nhất đối với gene thứ $2$ là số lượng cặp $2$ cơ sở liên tiếp nhau trong gene thứ nhất đồng thời là cặp $2$ cơ sở liên tiếp nhau trong gene thứ hai.\n",
    "\n",
    "![](DeBai_MucDoGiongNhau.png)\n",
    "\n",
    "> Ví dụ, gene thứ nhất là **ABBACAB**, gene thứ 2 là **BCABB** thì mức độ giống nhau là 4.\n",
    "\n",
    "Cho hai gene. Hãy xác định mức độ giống nhau của gene thứ nhất với gene thứ 2.\n",
    "\n",
    "**Dữ liệu**: Vào từ thiết bị nhập chuẩn bao gồm 2 dòng chứa 2 xâu khác rỗng xác định gene thứ nhất và gene thứ 2, mỗi xâu chỉ chứa các ký tự chữ cái in hoa và có độ dài không quá $10^5$.\n",
    "\n",
    "**Kết quả**: Đưa ra thiết bị xuất chuẩn một số nguyên – mức độ giống nhau của 2 genes.\n",
    "\n",
    "**Ví dụ:**\n",
    "\n",
    "![](input_output_MDGN.png)\n"
   ],
   "cell_type": "markdown",
   "metadata": {}
  },
  {
   "source": [
    "## Abstract\n",
    "Tìm số lượng substring có độ dài là 2 ở chuỗi gene thứ 1 trùng với substring ở chuỗi gene thứ 2\n",
    "\n",
    "## Pattern Recognition\n",
    "Nếu ta coi từng cặp substring liền nhau là một phần tử riêng biêt, thì ta có thể giải bài toán này tương tự như bài toán đếm số phần tử giống nhau trong 2 mảng con\n",
    "\n",
    "## ALGORITHM DESIGN\n",
    "Ta giải bài toán với các bước sau:\n",
    "\n",
    "1. Với từng cặp cơ sở liên tiếp nhau ở gene 2, ta tăng giá trị ứng với cặp cơ sở đó trong **dictionary** lên 1\n",
    "2. Với từng cặp cơ sở liên tiếp nhau ở gene 1, nếu cặp cơ sở đó có trong **dictionary**, ta tăng biến **count** lên 1\n",
    "3. In kết quả là biến **count**\n"
   ],
   "cell_type": "markdown",
   "metadata": {}
  },
  {
   "cell_type": "code",
   "execution_count": 1,
   "metadata": {},
   "outputs": [
    {
     "output_type": "stream",
     "name": "stdout",
     "text": [
      "4\n"
     ]
    }
   ],
   "source": [
    "def solution(a,b): \n",
    "    dict = {}\n",
    "    count = 0\n",
    "\n",
    "    for i in range(0,len(a)-1):\n",
    "        if (a[i] + a[i+1]) not in dict:\n",
    "            dict[ a[i] + a[i+1] ] = 1\n",
    "        else:\n",
    "            dict[ a[i] + a[i+1] ] += 1\n",
    "\n",
    "    for i in range(0,len(b)-1):\n",
    "        if (b[i] + b[i+1]) in dict:\n",
    "            count += 1\n",
    "    return count\n",
    "\n",
    "a = input().strip()\n",
    "b = input().strip()\n",
    "\n",
    "print(solution(b,a))\n"
   ]
  }
 ]
}