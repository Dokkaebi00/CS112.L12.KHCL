{
 "metadata": {
  "language_info": {
   "codemirror_mode": {
    "name": "ipython",
    "version": 3
   },
   "file_extension": ".py",
   "mimetype": "text/x-python",
   "name": "python",
   "nbconvert_exporter": "python",
   "pygments_lexer": "ipython3",
   "version": "3.7.4-final"
  },
  "orig_nbformat": 2,
  "kernelspec": {
   "name": "python_defaultSpec_1600317674191",
   "display_name": "Python 3.7.4 64-bit ('Anaconda': conda)"
  }
 },
 "nbformat": 4,
 "nbformat_minor": 2,
 "cells": [
  {
   "cell_type": "code",
   "execution_count": 1,
   "metadata": {
    "tags": []
   },
   "outputs": [
    {
     "output_type": "stream",
     "name": "stdout",
     "text": "5 15 12\n"
    }
   ],
   "source": [
    "# input n BOT\n",
    "n = int(input())\n",
    "# input the profit of every single BOT\n",
    "a = list(map(int, input().split()))\n",
    "# assign value for p and q = 0\n",
    "p = 0\n",
    "q = 0\n",
    "# create a temp variable for p\n",
    "temp_p = 0\n",
    "# create a temp variable for the total profit\n",
    "temp_profit = a[0]\n",
    "# assign minus infinite value for the total profit\n",
    "profit = -99999\n",
    "\n",
    "for i in range(1, n):\n",
    "    # calculate the profit and assign the value to temp_profit variable\n",
    "    temp_profit = temp_profit + a[i]\n",
    "    # if the value is larger than the profit then assign that value to the profit, increase q and assign value of temp_p to p\n",
    "    if temp_profit > profit:\n",
    "        profit = temp_profit\n",
    "        q = i\n",
    "        p = temp_p\n",
    "    #if temp_profit < 0 (means that sub_array has the negative total_profit) then we skip that subarray by increase the p and assign 0 value to temp_profit\n",
    "    if temp_profit < 0:\n",
    "        temp_profit = 0\n",
    "        temp_p = i + 1\n",
    "print(p + 1, q + 1, profit)"
   ]
  },
  {
   "cell_type": "code",
   "execution_count": null,
   "metadata": {},
   "outputs": [],
   "source": []
  }
 ]
}