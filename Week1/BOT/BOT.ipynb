{
 "metadata": {
  "language_info": {
   "codemirror_mode": {
    "name": "ipython",
    "version": 3
   },
   "file_extension": ".py",
   "mimetype": "text/x-python",
   "name": "python",
   "nbconvert_exporter": "python",
   "pygments_lexer": "ipython3",
   "version": "3.7.8-final"
  },
  "orig_nbformat": 2,
  "kernelspec": {
   "name": "python_defaultSpec_1600236715709",
   "display_name": "Python 3.7.8 64-bit"
  }
 },
 "nbformat": 4,
 "nbformat_minor": 2,
 "cells": [
  {
   "source": [
    "## 1. Abstract\n",
    "- Given N tracks  \n",
    "- Found continous p,q parts that bring the most return on investment\n",
    "## 2.Pattern Recoginition\n",
    "- Maximum continous subarray\n",
    "## 3.Algorithm designed\n",
    "- Dynamic programming\n",
    "- Input: `n`: , `arr`: \n",
    "- Output: `start_track_pos`, `end_track_pos`, `return_on_investment_result`\n",
    "- Temporary variable: \n",
    "<!-- write some Temporary variables and why we should use these variables here -->\n",
    "- Condition: \n",
    "<!-- write Condition here -->\n",
    "- Description: \n",
    "<!-- write psudocode here -->\n",
    "- Time complexity: O(n)\n"
   ],
   "cell_type": "markdown",
   "metadata": {}
  },
  {
   "cell_type": "code",
   "execution_count": 1,
   "metadata": {
    "tags": []
   },
   "outputs": [
    {
     "output_type": "stream",
     "name": "stdout",
     "text": "5 15 12\n"
    }
   ],
   "source": [
    "n = int(input())\n",
    "a = list(map(int, input().split()))\n",
    "p = 0\n",
    "q = 0\n",
    "temp_p = 0\n",
    "temp_profit = a[0]\n",
    "profit = -99999\n",
    "\n",
    "for i in range(1, n):\n",
    "    temp_profit = temp_profit + a[i]\n",
    "    if temp_profit > profit:\n",
    "        profit = temp_profit\n",
    "        q = i\n",
    "        p = temp_p\n",
    "    if temp_profit < 0:\n",
    "        temp_profit = 0\n",
    "        temp_p = i + 1\n",
    "print(p + 1, q + 1, profit)"
   ]
  },
  {
   "cell_type": "code",
   "execution_count": null,
   "metadata": {},
   "outputs": [],
   "source": []
  }
 ]
}