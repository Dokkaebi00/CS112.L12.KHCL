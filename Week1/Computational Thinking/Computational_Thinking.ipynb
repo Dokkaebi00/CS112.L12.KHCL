{
 "metadata": {
  "language_info": {
   "codemirror_mode": {
    "name": "ipython",
    "version": 3
   },
   "file_extension": ".py",
   "mimetype": "text/x-python",
   "name": "python",
   "nbconvert_exporter": "python",
   "pygments_lexer": "ipython3",
   "version": 3
  },
  "orig_nbformat": 2
 },
 "nbformat": 4,
 "nbformat_minor": 2,
 "cells": [
  {
   "source": [
    "# Introduction\n",
    "Computational thinking is an approach to solving problems using concepts and ideas from computer science, and expressing solutions to those problems so that they can be run on a computer.\n",
    "\n",
    "There arre 4 what we call pillars to Computational thinking\n",
    "- Decomposition\n",
    "- Pattern Recognition\n",
    "- Abstraction\n",
    "- Algorithms"
   ],
   "cell_type": "markdown",
   "metadata": {}
  },
  {
   "source": [
    "# Decomposition\n",
    "\n",
    "Decomposition is the process of taking a complex problem and breaking it into more manageable sub-problems\n",
    "\n",
    "Although solving the complex problem as a whole may seem very difficult, the solution to each sub-problem may be much simpler by putting together the solutions to the sub-problems. We can then arrive at a solution to the original, complex problem."
   ],
   "cell_type": "markdown",
   "metadata": {}
  },
  {
   "source": [
    "# Pattern Recognition\n",
    "Pattern Recognition means finding similarities or shared characteristics within or between problem and allows us to use the same solution for each occurence of the pattern."
   ],
   "cell_type": "markdown",
   "metadata": {}
  },
  {
   "source": [
    "# Abstraction\n",
    "In Data representation and abstraction, we determine what characteristics of the problem are important and filter out those that are not. Using these to create a representation of the problem to be solved."
   ],
   "cell_type": "markdown",
   "metadata": {}
  },
  {
   "source": [
    "# Algorithms\n",
    "An algorithm is a set of step-by-step instructions of how to solve a problem. It identifies what is to be done and the order in which they should be done. It can be described in human language, as a flowchart, or by using pseudo code."
   ],
   "cell_type": "markdown",
   "metadata": {}
  },
  {
   "cell_type": "code",
   "execution_count": null,
   "metadata": {},
   "outputs": [],
   "source": []
  }
 ]
}